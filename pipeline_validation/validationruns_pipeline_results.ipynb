{
 "cells": [
  {
   "cell_type": "markdown",
   "id": "e501dcfe",
   "metadata": {},
   "source": [
    "## BAPTA Ca2+ spike detection test - results"
   ]
  },
  {
   "cell_type": "code",
   "execution_count": 1,
   "id": "1da96109",
   "metadata": {},
   "outputs": [],
   "source": [
    "import numpy as np\n",
    "import seaborn as sns\n",
    "import pandas as pd\n",
    "import matplotlib.pyplot as plt\n",
    "from skimage import io\n",
    "import scipy.ndimage as ndi_sp\n",
    "from scipy.spatial import cKDTree, distance\n",
    "from skimage.feature import peak_local_max as peak_local_max_np\n",
    "\n",
    "import cProfile\n",
    "import os\n",
    "import glob\n",
    "import time\n",
    "import cv2\n",
    "import h5py\n",
    "import napari"
   ]
  },
  {
   "cell_type": "code",
   "execution_count": 2,
   "id": "ed1462f6",
   "metadata": {},
   "outputs": [],
   "source": [
    "def distance(coord_pair1, coord_pair2):\n",
    "    d = np.sqrt((coord_pair1[0]-coord_pair2[0])**2 + (coord_pair1[1]-coord_pair2[1])**2)\n",
    "    return d\n",
    "\n",
    "def remove_neighbours(coords_array, d_lim_px=50):\n",
    "    remove_idxs = []\n",
    "    for idx1, coord1 in enumerate(coords_array):\n",
    "        frame1 = coord1[0]\n",
    "        coordpair1 = coord1[1:]\n",
    "        for idx2, coord2 in enumerate(coords_array[idx1+1:-1]):\n",
    "            idx2 = idx2 + idx1 + 1\n",
    "            #print([idx1, idx2])\n",
    "            frame2 = coord2[0]\n",
    "            coordpair2 = coord2[1:]\n",
    "            if frame1 == frame2:\n",
    "                d = distance(coordpair1, coordpair2)\n",
    "                if d < d_lim_px:\n",
    "                    remove_idxs.append(idx2)\n",
    "    remove_idxs = np.unique(remove_idxs)\n",
    "    if np.size(remove_idxs) > 0:\n",
    "        coords_array = np.delete(coords_array, remove_idxs, axis=0)\n",
    "    return coords_array"
   ]
  },
  {
   "cell_type": "code",
   "execution_count": 3,
   "id": "8724047b",
   "metadata": {},
   "outputs": [],
   "source": [
    "folder = 'example_data_validationruns'"
   ]
  },
  {
   "cell_type": "code",
   "execution_count": 11,
   "id": "c8f163a5",
   "metadata": {},
   "outputs": [
    {
     "name": "stdout",
     "output_type": "stream",
     "text": [
      "13h27m06s957871us\n",
      "Correct frame rate: 0.980\n",
      "True positive detected event rate: 0.9642857142857143\n",
      "Total detected events: 28\n",
      "Detected event rate: 0.9032258064516129\n",
      "Detected event frames rate: 0.714\n",
      "Total annotated events: 31\n",
      "\n",
      "Total correct frame rate: 0.980 +/- nan\n",
      "Total detected events frames rate: 0.714 +/- nan\n",
      "Total true positive rate: 0.964 +/- nan\n",
      "Total detected event rate: 0.903 +/- nan\n",
      "    tp_rate   de_rate  cf_rate  def_rate  dataset\n",
      "0  0.964286  0.903226     0.98  0.714286  neurons\n"
     ]
    },
    {
     "name": "stderr",
     "output_type": "stream",
     "text": [
      "C:\\Users\\Jonatan\\miniconda3\\envs\\smartstedanalysis\\lib\\site-packages\\numpy\\core\\_methods.py:234: RuntimeWarning: Degrees of freedom <= 0 for slice\n",
      "  keepdims=keepdims)\n",
      "C:\\Users\\Jonatan\\miniconda3\\envs\\smartstedanalysis\\lib\\site-packages\\numpy\\core\\_methods.py:226: RuntimeWarning: invalid value encountered in double_scalars\n",
      "  ret = ret.dtype.type(ret / rcount)\n"
     ]
    }
   ],
   "source": [
    "analysisfiles = []\n",
    "for file in os.listdir(folder):\n",
    "    if file.endswith('analysiscoords.csv'):\n",
    "        analysisfiles.append(os.path.join(folder, file))\n",
    "        \n",
    "manualfiles = []\n",
    "for file in os.listdir(folder):\n",
    "    if file.endswith('manualcoords.csv'):\n",
    "        manualfiles.append(os.path.join(folder, file))\n",
    "\n",
    "d_lim = 5  # um\n",
    "pxs = 0.1  # um/px\n",
    "d_lim_px = d_lim/pxs\n",
    "frame_diff_lim = 2\n",
    "\n",
    "tp_rates = []\n",
    "events_det_tot = []\n",
    "de_rates = []\n",
    "events_ann_tot = []\n",
    "cf_rates = []\n",
    "def_rates = []\n",
    "\n",
    "# load analysis coords\n",
    "for analysisfile, manualfile in zip(analysisfiles,manualfiles):\n",
    "    print(analysisfile.split('_')[2].split('\\\\')[-1])\n",
    "    \n",
    "    analysiscoords_raw = np.loadtxt(analysisfile, delimiter=',')\n",
    "    manualcoords_raw = np.loadtxt(manualfile, delimiter=',')\n",
    "    \n",
    "    if np.size(analysiscoords_raw) > 3 and np.size(manualcoords_raw) > 3:\n",
    "        # remove close-by neighbours to not undercount accuracy/precision - but always compare with the raw instead\n",
    "        analysiscoords_clean = remove_neighbours(analysiscoords_raw)\n",
    "        manualcoords_clean = remove_neighbours(manualcoords_raw)\n",
    "        #analysiscoords = analysiscoords_raw\n",
    "        #manualcoords = manualcoords_raw\n",
    "        \n",
    "        det_events = 0\n",
    "        det_true = 0\n",
    "        event_frames = []\n",
    "        match_frames = []\n",
    "        # compare all analysiscoords to all manualcoords, to check for ~matches, to calculate accuracy\n",
    "        for analysiscoord in analysiscoords_clean:\n",
    "            det_events += 1\n",
    "            frame_ana = analysiscoord[0]\n",
    "            event_frames.append(frame_ana)\n",
    "            coordpair_ana = analysiscoord[1:]\n",
    "            for manualcoord in manualcoords_raw:\n",
    "                frame_man = manualcoord[0]\n",
    "                coordpair_man = manualcoord[1:]\n",
    "                if np.abs(frame_ana-frame_man) < frame_diff_lim:\n",
    "                    d = distance(coordpair_ana, coordpair_man)\n",
    "                    if d < d_lim_px:\n",
    "                        #print(f'Match, distance: {d:.2f} px')\n",
    "                        det_true += 1\n",
    "                        match_frames.append(frame_man)\n",
    "                        break\n",
    "        det_event_frames = np.unique(event_frames)\n",
    "        confirmed_det_event_frames = np.unique(match_frames)\n",
    "        n_frames = np.ceil(np.max(event_frames)/50)*50\n",
    "        empty_frames = n_frames - len(det_event_frames)\n",
    "        correct_frame_rate = (len(confirmed_det_event_frames) + empty_frames) / n_frames\n",
    "\n",
    "        print(f'Correct frame rate: {correct_frame_rate:.3f}')\n",
    "        cf_rates.append(correct_frame_rate)\n",
    "        tp_rate = det_true/det_events\n",
    "        print(f'True positive detected event rate: {tp_rate}')\n",
    "        tp_rates.append(tp_rate)\n",
    "        print(f'Total detected events: {det_events}')\n",
    "        events_det_tot.append(det_events)\n",
    "\n",
    "        real_events = 0\n",
    "        det_real_events = 0\n",
    "        event_frames = []\n",
    "        match_frames = []\n",
    "        # compare all manualcoords to all analysiscoords, to check for ~matches, to calculate precision\n",
    "        for manualcoord in manualcoords_clean:\n",
    "            real_events += 1\n",
    "            frame_man = manualcoord[0]\n",
    "            event_frames.append(frame_man)\n",
    "            coordpair_man = manualcoord[1:]\n",
    "            for analysiscoord in analysiscoords_raw:\n",
    "                frame_ana = analysiscoord[0]\n",
    "                coordpair_ana = analysiscoord[1:]\n",
    "                if np.abs(frame_man-frame_ana) < frame_diff_lim:\n",
    "                    d = distance(coordpair_man, coordpair_ana)\n",
    "                    if d < d_lim_px:\n",
    "                        #print(f'Match, distance: {d:.2f} px')\n",
    "                        det_real_events += 1\n",
    "                        match_frames.append(frame_ana)\n",
    "                        break\n",
    "        \n",
    "        real_event_frames = np.unique(event_frames)\n",
    "        detected_real_event_frames = np.unique(match_frames)\n",
    "        de_frame_rate = len(detected_real_event_frames)/len(real_event_frames)\n",
    "        \n",
    "        de_rate = det_real_events/real_events\n",
    "        print(f'Detected event rate: {de_rate}')\n",
    "        de_rates.append(de_rate)\n",
    "        print(f'Detected event frames rate: {de_frame_rate:.3f}')\n",
    "        def_rates.append(de_frame_rate)\n",
    "        print(f'Total annotated events: {real_events}')\n",
    "        events_ann_tot.append(real_events)\n",
    "        print('')\n",
    "    else:\n",
    "        print('Less than 2 detected or annotated coords.')\n",
    "        print('')\n",
    "        \n",
    "print(f'Total correct frame rate: {np.mean(cf_rates):.3f} +/- {np.std(cf_rates, ddof=1) / np.sqrt(np.size(cf_rates)):.3f}')\n",
    "print(f'Total detected events frames rate: {np.mean(def_rates):.3f} +/- {np.std(def_rates, ddof=1) / np.sqrt(np.size(def_rates)):.3f}')\n",
    "print(f'Total true positive rate: {np.mean(tp_rates):.3f} +/- {np.std(tp_rates, ddof=1) / np.sqrt(np.size(tp_rates)):.3f}')\n",
    "print(f'Total detected event rate: {np.mean(de_rates):.3f} +/- {np.std(de_rates, ddof=1) / np.sqrt(np.size(de_rates)):.3f}')\n",
    "\n",
    "summary_neurons = {'tp_rate': tp_rates, 'de_rate': de_rates, 'cf_rate': cf_rates, 'def_rate': def_rates, 'dataset': 'neurons'}\n",
    "summary_neurons_df = pd.DataFrame(data=summary_neurons)\n",
    "print(summary_neurons_df)"
   ]
  },
  {
   "cell_type": "code",
   "execution_count": 12,
   "id": "0f9d297f",
   "metadata": {},
   "outputs": [
    {
     "name": "stdout",
     "output_type": "stream",
     "text": [
      "    tp_rate   de_rate  cf_rate  def_rate  dataset\n",
      "0  0.964286  0.903226     0.98  0.714286  neurons\n"
     ]
    },
    {
     "data": {
      "image/png": "[encoded data removed]",
      "text/plain": [
       "<Figure size 936x360 with 4 Axes>"
      ]
     },
     "metadata": {},
     "output_type": "display_data"
    }
   ],
   "source": [
    "save = False\n",
    "\n",
    "frames = [summary_neurons_df]\n",
    "summary_tot = pd.concat(frames)\n",
    "print(summary_tot)\n",
    "    \n",
    "fig1, axs = plt.subplots(1, 4, figsize=(13,5))\n",
    "sns.set(style='whitegrid')\n",
    "sns.boxplot(x='dataset', y='tp_rate', data=summary_tot, showfliers=False, ax=axs[0], color=\"1\")\n",
    "sns.swarmplot(x='dataset', y='tp_rate', data=summary_tot, color=\"0\", ax=axs[0])\n",
    "axs[0].set_ylim([0,1])\n",
    "axs[0].set_title('True positive ratio')\n",
    "\n",
    "sns.set(style='whitegrid')\n",
    "sns.boxplot(x='dataset', y='de_rate', data=summary_tot, showfliers=False, ax=axs[1], color=\"1\")\n",
    "sns.swarmplot(x='dataset', y='de_rate', data=summary_tot, color=\"0\", ax=axs[1])\n",
    "axs[1].set_ylim([0,1])\n",
    "axs[1].set_title('Detected events ratio')\n",
    "\n",
    "sns.set(style='whitegrid')\n",
    "sns.boxplot(x='dataset', y='cf_rate', data=summary_tot, showfliers=False, ax=axs[2], color=\"1\")\n",
    "sns.swarmplot(x='dataset', y='cf_rate', data=summary_tot, color=\"0\", ax=axs[2])\n",
    "axs[2].set_ylim([0,1])\n",
    "axs[2].set_title('Correct frame ratio')\n",
    "\n",
    "sns.set(style='whitegrid')\n",
    "sns.boxplot(x='dataset', y='def_rate', data=summary_tot, showfliers=False, ax=axs[3], color=\"1\")\n",
    "sns.swarmplot(x='dataset', y='def_rate', data=summary_tot, color=\"0\", ax=axs[3])\n",
    "axs[3].set_ylim([0,1])\n",
    "axs[3].set_title('Detected event frames ratio')\n",
    "\n",
    "plt.show()\n",
    "\n",
    "if save:\n",
    "    savefolder = 'example_data_validationruns'\n",
    "    fig1.savefig(os.path.join(savefolder, 'characterization_accuracy-alt.svg'))"
   ]
  },
  {
   "cell_type": "code",
   "execution_count": 13,
   "id": "37799425",
   "metadata": {},
   "outputs": [
    {
     "name": "stdout",
     "output_type": "stream",
     "text": [
      "    tp_rate   de_rate  cf_rate  def_rate  dataset\n",
      "0  0.964286  0.903226     0.98  0.714286  neurons\n",
      "\n",
      "HeLa\n",
      "0    0.964286\n",
      "Name: tp_rate, dtype: float64\n",
      "0.9642857142857143\n",
      "0.0\n",
      "\n",
      "0    0.903226\n",
      "Name: de_rate, dtype: float64\n",
      "0.9032258064516129\n",
      "0.0\n",
      "\n"
     ]
    },
    {
     "data": {
      "text/plain": [
       "(None, None, None, None)"
      ]
     },
     "execution_count": 13,
     "metadata": {},
     "output_type": "execute_result"
    }
   ],
   "source": [
    "print(summary_tot), print('')\n",
    "\n",
    "print('HeLa')\n",
    "print(summary_tot['tp_rate'][(summary_tot['dataset']=='neurons')]), print(np.mean(summary_tot['tp_rate'][(summary_tot['dataset']=='neurons')])), print(np.std(summary_tot['tp_rate'][(summary_tot['dataset']=='neurons')])), print('')\n",
    "print(summary_tot['de_rate'][(summary_tot['dataset']=='neurons')]), print(np.mean(summary_tot['de_rate'][(summary_tot['dataset']=='neurons')])), print(np.std(summary_tot['de_rate'][(summary_tot['dataset']=='neurons')])), print('')"
   ]
  },
  {
   "cell_type": "code",
   "execution_count": null,
   "id": "c75ba21d",
   "metadata": {},
   "outputs": [],
   "source": []
  }
 ],
 "metadata": {
  "kernelspec": {
   "display_name": "Python 3",
   "language": "python",
   "name": "python3"
  },
  "language_info": {
   "codemirror_mode": {
    "name": "ipython",
    "version": 3
   },
   "file_extension": ".py",
   "mimetype": "text/x-python",
   "name": "python",
   "nbconvert_exporter": "python",
   "pygments_lexer": "ipython3",
   "version": "3.7.10"
  }
 },
 "nbformat": 4,
 "nbformat_minor": 5
}
