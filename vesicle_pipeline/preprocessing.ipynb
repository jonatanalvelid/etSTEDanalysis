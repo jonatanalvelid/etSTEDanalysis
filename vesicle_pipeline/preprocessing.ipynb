{
 "cells": [
  {
   "cell_type": "markdown",
   "id": "2beed637",
   "metadata": {},
   "source": [
    "## Pre-processing for vesicle images"
   ]
  },
  {
   "cell_type": "code",
   "execution_count": 16,
   "id": "e3975b3c",
   "metadata": {},
   "outputs": [],
   "source": [
    "import numpy as np\n",
    "from skimage import data, filters\n",
    "import h5py\n",
    "import napari\n",
    "import os\n",
    "import scipy\n",
    "import pandas as pd\n",
    "\n",
    "import cupy as cp\n",
    "from cupyx.scipy import ndimage as ndi\n",
    "import cv2\n",
    "from scipy.spatial import cKDTree, distance"
   ]
  },
  {
   "cell_type": "code",
   "execution_count": 192,
   "id": "b92460ef",
   "metadata": {},
   "outputs": [],
   "source": [
    "def peak_det(img, testmode=True, min_dist=20, thresh_abs=0.12, num_peaks=100, noise_level=250, smoothing_radius=2, border_limit=10):\n",
    "    \"Peak_local_max all-in-one as a combo of opencv and cupy\"\n",
    "    img = cp.array(img)\n",
    "    img[img<0] = 0\n",
    "    thresh_abs = thresh_abs\n",
    "    size = int(2 * min_dist + 1)\n",
    "    img_ana = img.astype('uint16')\n",
    "    # get filter structuring element\n",
    "    footprint = cv2.getStructuringElement(cv2.MORPH_RECT, ksize=[size,size])\n",
    "    # maximum filter (dilation + equal)\n",
    "    image_max = cv2.dilate(img_ana.get(), kernel=footprint)\n",
    "    img_rat_dil = np.copy(image_max)\n",
    "    \n",
    "    #return image, image_max\n",
    "    mask = cp.equal(img_ana,cp.array(image_max))\n",
    "    img_peak_mask = np.copy(mask)\n",
    "    mask &= cp.greater(img_ana, thresh_abs)\n",
    "    img_peak_mask_filt = np.copy(mask)\n",
    "    \n",
    "    # get coordinates of peaks\n",
    "    coordinates = cp.nonzero(mask)\n",
    "    intensities = img_ana[coordinates]\n",
    "    # highest peak first\n",
    "    idx_maxsort = cp.argsort(-intensities).get()\n",
    "    coordinates = tuple(arr.get() for arr in coordinates)\n",
    "    coordinates = np.transpose(coordinates)[idx_maxsort]\n",
    "\n",
    "    coordinates = cp.array(coordinates)\n",
    "    coordinates = cp.fliplr(coordinates)\n",
    "    coordinates = coordinates.get()\n",
    "\n",
    "    # remove everything on the border (takes ~2-3ms if there are a lot of detected coordinates, but usually this is not the case)\n",
    "    imsize = cp.shape(img)[0]\n",
    "    idxremove = []\n",
    "    for idx, coordpair in enumerate(coordinates):\n",
    "        if coordpair[0] < border_limit or coordpair[0] > imsize - border_limit or coordpair[1] < border_limit or coordpair[1] > imsize - border_limit:\n",
    "            idxremove.append(idx)\n",
    "    coordinates = np.delete(coordinates,idxremove,axis=0)\n",
    "\n",
    "    # remove everyhting down to a certain length\n",
    "    if len(coordinates) > num_peaks:\n",
    "        coordinates = coordinates[:int(num_peaks),:]\n",
    "\n",
    "    if testmode:\n",
    "        img_ana = img_ana.get()\n",
    "        return coordinates, img_ana, img_rat_dil, img_peak_mask, img_peak_mask_filt\n",
    "    else:\n",
    "        return coordinates\n",
    "    \n",
    "def dist(a,b):\n",
    "    return np.sqrt((a[0]-b[0])**2+(a[1]-b[1])**2)"
   ]
  },
  {
   "cell_type": "code",
   "execution_count": 4,
   "id": "a15e8656",
   "metadata": {},
   "outputs": [
    {
     "name": "stdout",
     "output_type": "stream",
     "text": [
      "['14h34m01s619390us_rec_etSTEDCamera.hdf5', '14h34m55s341975us_rec_etSTEDCamera.hdf5', '14h35m28s068683us_rec_etSTEDCamera.hdf5', '14h36m09s073003us_rec_etSTEDCamera.hdf5', '14h42m32s078793us_rec_etSTEDCamera.hdf5', '14h44m21s781974us_rec_etSTEDCamera.hdf5', '14h44m47s002972us_rec_etSTEDCamera.hdf5', '14h52m02s440972us_rec_etSTEDCamera.hdf5', '15h01m10s293185us_rec_etSTEDCamera.hdf5', '15h02m15s246991us_rec_etSTEDCamera.hdf5', '15h02m56s645009us_rec_etSTEDCamera.hdf5', '15h03m17s004581us_rec_etSTEDCamera.hdf5']\n"
     ]
    }
   ],
   "source": [
    "folder = 'E:\\\\PhD\\\\ImSwitchData\\\\2022-01-18\\\\sample5'\n",
    "filelist = os.listdir(folder)\n",
    "print(filelist)\n",
    "filenum = 0"
   ]
  },
  {
   "cell_type": "code",
   "execution_count": 336,
   "id": "fb503eba",
   "metadata": {},
   "outputs": [],
   "source": [
    "file = h5py.File(os.path.join(folder, filelist[filenum]), 'r')\n",
    "imgstack_raw = file['data'][:]\n",
    "imgstack_sm = scipy.ndimage.gaussian_filter(imgstack_raw, sigma=0.6)\n",
    "imgstack_sm = imgstack_sm[110:130]"
   ]
  },
  {
   "cell_type": "code",
   "execution_count": null,
   "id": "f6a07623",
   "metadata": {},
   "outputs": [
    {
     "name": "stderr",
     "output_type": "stream",
     "text": [
      "C:\\Users\\Jonatan\\miniconda3\\envs\\smartstedanalysis\\lib\\site-packages\\napari\\_vispy\\vispy_camera.py:109: RuntimeWarning: divide by zero encountered in true_divide\n",
      "  zoom = np.min(canvas_size / scale)\n"
     ]
    }
   ],
   "source": [
    "viewer = napari.Viewer()\n",
    "\n",
    "# raw img\n",
    "viewer.add_image(imgstack_sm, name='raw', colormap='inferno', visible=True)\n",
    "\n",
    "# mean img\n",
    "#img_mean = np.mean(imgstack_sm,axis=0)\n",
    "#print(np.shape(img_mean))\n",
    "#viewer.add_image(img_mean, name='mean', colormap='inferno', visible=True)\n",
    "\n",
    "# img - mean img\n",
    "#img_meansub = imgstack_sm - img_mean\n",
    "#print(np.shape(img_meansub))\n",
    "#viewer.add_image(img_meansub, name='meansub', colormap='inferno', visible=True)\n",
    "\n",
    "# diff img - time\n",
    "#img_diff_t = np.diff(imgstack_sm,axis=0)\n",
    "#print(np.shape(img_diff_t))\n",
    "#viewer.add_image(img_diff_t, name='diff-t', colormap='inferno', visible=True)\n",
    "\n",
    "# diff img - x\n",
    "img_diff_x = np.diff(imgstack_sm,axis=2)\n",
    "viewer.add_image(img_diff_x, name='diff-x', colormap='inferno', visible=True)\n",
    "\n",
    "# diff img - t on x\n",
    "#img_diff_t_x = np.diff(img_diff_x,axis=0)\n",
    "#print(np.shape(img_diff_t_x))\n",
    "#viewer.add_image(img_diff_t_x, name='diff-t-x', colormap='inferno', visible=True)\n",
    "\n",
    "# det coords on diff_x\n",
    "coords_all = pd.DataFrame(columns=['id','t','x','y'])\n",
    "for i in range(len(img_diff_x)):\n",
    "    coords = peak_det(img_diff_x[i], testmode=False, min_dist=3, thresh_abs=40, num_peaks=500, noise_level=25, smoothing_radius=3)\n",
    "    coords = np.flip(coords,axis=1)\n",
    "    coords = coords[coords[:, 0].argsort()]\n",
    "    coords_pd = pd.DataFrame(np.hstack((np.array(range(len(coords))).reshape(-1,1),i*np.ones(len(coords)).reshape(-1,1),coords)),columns=['id','t','x','y'])\n",
    "    coords_all = coords_all.append(coords_pd)\n",
    "    \n",
    "thresh_dist = 5\n",
    "yes = True\n",
    "if yes:\n",
    "    for i in range(1,int(max(coords_all['t']))+1):\n",
    "        conn = list()\n",
    "        coords_t1 = coords_all.loc[coords_all['t']==i]\n",
    "        coords_t0 = coords_all.loc[coords_all['t']==i-1]\n",
    "        #print('')\n",
    "        #print(i)\n",
    "        #print(coords_t1)\n",
    "        #print(coords_t0)\n",
    "        for n in range(len(coords_t1)):\n",
    "            dists = list()\n",
    "            for m in range(len(coords_t0)):\n",
    "                p1 = (coords_t1['x'][n],coords_t1['y'][n])\n",
    "                p0 = (coords_t0['x'][m],coords_t0['y'][m])\n",
    "                dists.append(dist(p0,p1))\n",
    "            #conn.append(np.argmin(dists))\n",
    "            #print('')\n",
    "            #print(coords_all.loc[(coords_all['t']==i) & (coords_all['x']==coords_t1.iloc[n]['x']) & (coords_all['y']==coords_t1.iloc[n]['y'])])\n",
    "            if np.min(dists) < thresh_dist:\n",
    "                coords_all.loc[(coords_all['t']==i) & (coords_all['x']==coords_t1.iloc[n]['x']) & (coords_all['y']==coords_t1.iloc[n]['y']),'id'] = int(coords_t0.iloc[np.argmin(dists)]['id'])\n",
    "            else:\n",
    "                coords_all.loc[(coords_all['t']==i) & (coords_all['x']==coords_t1.iloc[n]['x']) & (coords_all['y']==coords_t1.iloc[n]['y']),'id'] = int(np.max(coords_all['id'])+1)\n",
    "            #print(coords_all.loc[(coords_all['t']==i) & (coords_all['x']==coords_t1.iloc[n]['x']) & (coords_all['y']==coords_t1.iloc[n]['y'])])\n",
    "            \n",
    "viewer.add_tracks(coords_all)"
   ]
  },
  {
   "cell_type": "code",
   "execution_count": null,
   "id": "8123b5d7",
   "metadata": {},
   "outputs": [],
   "source": []
  }
 ],
 "metadata": {
  "kernelspec": {
   "display_name": "Python 3",
   "language": "python",
   "name": "python3"
  },
  "language_info": {
   "codemirror_mode": {
    "name": "ipython",
    "version": 3
   },
   "file_extension": ".py",
   "mimetype": "text/x-python",
   "name": "python",
   "nbconvert_exporter": "python",
   "pygments_lexer": "ipython3",
   "version": "3.7.10"
  }
 },
 "nbformat": 4,
 "nbformat_minor": 5
}
