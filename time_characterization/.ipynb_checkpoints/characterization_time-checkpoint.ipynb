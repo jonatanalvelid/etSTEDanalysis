{
 "cells": [
  {
   "cell_type": "markdown",
   "id": "f9c3d414",
   "metadata": {},
   "source": [
    "## Characterization of time\n",
    "\n",
    "Characterization of the time it takes for various steps in the smartSTED pipeline, from WF image acquisition to image scanning a timelapse"
   ]
  },
  {
   "cell_type": "code",
   "execution_count": 1,
   "id": "6efa2e42",
   "metadata": {},
   "outputs": [],
   "source": [
    "import h5py\n",
    "import os\n",
    "import glob\n",
    "import numpy as np\n",
    "import tifffile\n",
    "import matplotlib.pyplot as plt"
   ]
  },
  {
   "cell_type": "code",
   "execution_count": 2,
   "id": "cb14928f",
   "metadata": {},
   "outputs": [],
   "source": [
    "def time_s_fromstr(logline):\n",
    "    time_s = float(logline.split(' ')[1].split('\\n')[0].split('s')[0]) + float(logline.split(' ')[1].split('\\n')[0].split('s')[1].split('u')[0])/1e6\n",
    "    return time_s"
   ]
  },
  {
   "cell_type": "code",
   "execution_count": 12,
   "id": "fe1d3ce6",
   "metadata": {},
   "outputs": [
    {
     "name": "stdout",
     "output_type": "stream",
     "text": [
      "['example_data\\\\area001', 'example_data\\\\area002', 'example_data\\\\area003']\n",
      "\n",
      "3\n",
      "3\n",
      "4\n",
      "6.1003999999994285\n",
      "0.30020366420250333\n",
      "0.0\n",
      "0.0\n",
      "11.959499999999768\n",
      "2.8397481314376827\n",
      "38.059899999999196\n",
      "3.139951795640186\n"
     ]
    },
    {
     "data": {
      "image/png": "[encoded data removed]",
      "text/plain": [
       "<Figure size 432x360 with 3 Axes>"
      ]
     },
     "metadata": {
      "needs_background": "light"
     },
     "output_type": "display_data"
    },
    {
     "data": {
      "image/png": "[encoded data removed]",
      "text/plain": [
       "<Figure size 216x360 with 1 Axes>"
      ]
     },
     "metadata": {
      "needs_background": "light"
     },
     "output_type": "display_data"
    }
   ],
   "source": [
    "folder_top = 'example_data'\n",
    "\n",
    "camera_exposure = 20  # ms\n",
    "update_period = 50  # ms\n",
    "\n",
    "save = False\n",
    "    \n",
    "dirs_top = []\n",
    "for item in os.listdir(folder_top):\n",
    "    dirs_top.append(os.path.join(folder_top, item))\n",
    "print(dirs_top)\n",
    "print('')\n",
    "\n",
    "pipelinetimes_all = []\n",
    "coordtransftimes_all = []\n",
    "avgframetimes_all = []\n",
    "overheadtimes_all = []\n",
    "\n",
    "fig1, axs1 = plt.subplots(1,len(dirs_top), figsize=(2*len(dirs_top),5))\n",
    "    \n",
    "for idx, folder in enumerate(dirs_top):\n",
    "    areaname = folder.split('\\\\')[-1]\n",
    "    #print(areaname)\n",
    "    pipelinetimes = []\n",
    "    coordtransftimes = []\n",
    "    avgframetimes = []\n",
    "    overheadtimes = []\n",
    "    dirs = [x[0] for x in os.walk(folder)][1:]\n",
    "    for recdir in dirs:\n",
    "        for file in os.listdir(recdir):\n",
    "            if file.endswith('log.txt'):\n",
    "                logfilepath = os.path.join(recdir, file)\n",
    "\n",
    "        pipelinetime_temp = [0,0]\n",
    "        coordtransftime_temp = [0,0]\n",
    "        pausetime_temp = [0,0]\n",
    "        scanstarts_temp = []\n",
    "        scanends_temp = []\n",
    "\n",
    "        f0 = open(logfilepath, 'r')\n",
    "        lines = f0.readlines()\n",
    "        for line in lines:\n",
    "            param = line.split(' ')[0]\n",
    "            if param == 'pipeline_start:':\n",
    "                pipelinetime_temp[0] = time_s_fromstr(line)\n",
    "            elif param == 'pipeline_end:':\n",
    "                pipelinetime_temp[1] = time_s_fromstr(line)\n",
    "            elif param == 'coord_transf_start':\n",
    "                coordtransftime_temp[0] = time_s_fromstr(line)\n",
    "            elif param == 'scan_initiate':\n",
    "                coordtransftime_temp[1] = time_s_fromstr(line)\n",
    "            elif 'scan_start' in param:\n",
    "                scanstarts_temp.append(time_s_fromstr(line))\n",
    "            elif 'scan_end' in param:\n",
    "                scanends_temp.append(time_s_fromstr(line))\n",
    "            elif param == 'prepause:':\n",
    "                pausetime_temp[0] = time_s_fromstr(line)\n",
    "            elif param == 'postpause:':\n",
    "                pausetime_temp[1] = time_s_fromstr(line)\n",
    "        pipelinetimes.append((pipelinetime_temp[1]-pipelinetime_temp[0])*1000)  # in ms\n",
    "        coordtransftimes.append((coordtransftime_temp[1] - coordtransftime_temp[0])*1000)\n",
    "        overheadtimes.append((pausetime_temp[1]-pausetime_temp[0])*1000)\n",
    "        frametimes = np.array(scanends_temp) - np.array(scanstarts_temp)\n",
    "        frametimes[frametimes<0] = frametimes[frametimes < 0] + 60\n",
    "        avgframetimes.append(np.mean(frametimes)*1000)\n",
    "    axs1[idx].bar(areaname, camera_exposure)\n",
    "    axs1[idx].bar(areaname, np.mean(pipelinetimes), yerr=np.std(pipelinetimes), bottom=camera_exposure)\n",
    "    axs1[idx].bar(areaname, np.mean(coordtransftimes), yerr=np.std(coordtransftimes), bottom=camera_exposure+np.mean(pipelinetimes))\n",
    "    axs1[idx].bar(areaname, np.mean(overheadtimes), yerr=np.std(overheadtimes), bottom=camera_exposure+np.mean(pipelinetimes)+np.mean(coordtransftimes))\n",
    "    axs1[idx].set_ylim(0,50)\n",
    "    \n",
    "    pipelinetimes_all.append(pipelinetimes)\n",
    "    coordtransftimes_all.append(coordtransftimes)\n",
    "    overheadtimes_all.append(overheadtimes)\n",
    "    avgframetimes_all.append(avgframetimes)\n",
    "    \n",
    "    print(len(pipelinetimes))\n",
    "    \n",
    "fig2 = plt.figure(figsize=(3,5))\n",
    "\n",
    "# for mean of concatenated\n",
    "pipelinetimes_means = [item for sublist in pipelinetimes_all for item in sublist]\n",
    "coordtransftimes_means = [item for sublist in coordtransftimes_all for item in sublist]\n",
    "overheadtimes_means = [item for sublist in overheadtimes_all for item in sublist]\n",
    "avgframetimes_means = [item for sublist in avgframetimes_all for item in sublist]\n",
    "\n",
    "plt.bar('tot', camera_exposure)\n",
    "plt.bar('tot', np.mean(pipelinetimes_means), yerr=np.std(pipelinetimes_means), bottom=camera_exposure)\n",
    "print(np.mean(pipelinetimes_means)), print(np.std(pipelinetimes_means))\n",
    "plt.bar('tot', np.mean(coordtransftimes_means), yerr=np.std(coordtransftimes_means), bottom=camera_exposure+np.mean(pipelinetimes_means))\n",
    "print(np.mean(coordtransftimes_means)), print(np.std(coordtransftimes_means))\n",
    "plt.bar('tot', np.mean(overheadtimes_means), yerr=np.std(overheadtimes_means), bottom=camera_exposure+np.mean(pipelinetimes_means)+np.mean(coordtransftimes_means))\n",
    "print(np.mean(overheadtimes_means)), print(np.std(overheadtimes_means))\n",
    "plt.ylim(0,41)\n",
    "print(camera_exposure+np.mean(pipelinetimes_means)+np.mean(coordtransftimes_means)+np.mean(overheadtimes_means))\n",
    "print(np.std(pipelinetimes_means)+np.std(coordtransftimes_means)+np.std(overheadtimes_means))\n",
    "    \n",
    "labels = ['cam_exp','pipeline','cor_transf','overhead']\n",
    "plt.legend(labels, loc='lower center')\n",
    "\n",
    "if save:\n",
    "    savefolder = 'example_data'\n",
    "    plt.savefig(os.path.join(savefolder, 'characterization_speed.svg'))"
   ]
  },
  {
   "cell_type": "code",
   "execution_count": 13,
   "id": "fc3c5b25",
   "metadata": {},
   "outputs": [
    {
     "data": {
      "text/plain": [
       "[6.332666666666616, 6.000666666665803, 6.000999999999257]"
      ]
     },
     "execution_count": 13,
     "metadata": {},
     "output_type": "execute_result"
    }
   ],
   "source": [
    "[np.mean(area) for area in pipelinetimes_all]"
   ]
  },
  {
   "cell_type": "code",
   "execution_count": null,
   "id": "aba6f619",
   "metadata": {},
   "outputs": [],
   "source": []
  }
 ],
 "metadata": {
  "kernelspec": {
   "display_name": "Python 3",
   "language": "python",
   "name": "python3"
  },
  "language_info": {
   "codemirror_mode": {
    "name": "ipython",
    "version": 3
   },
   "file_extension": ".py",
   "mimetype": "text/x-python",
   "name": "python",
   "nbconvert_exporter": "python",
   "pygments_lexer": "ipython3",
   "version": "3.7.10"
  }
 },
 "nbformat": 4,
 "nbformat_minor": 5
}
